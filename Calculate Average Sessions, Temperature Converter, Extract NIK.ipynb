{
  "nbformat": 4,
  "nbformat_minor": 0,
  "metadata": {
    "colab": {
      "provenance": []
    },
    "kernelspec": {
      "name": "python3",
      "display_name": "Python 3"
    },
    "language_info": {
      "name": "python"
    }
  },
  "cells": [
    {
      "cell_type": "markdown",
      "source": [
        "# Week 2 - Python Programming\n",
        "---\n",
        "\n",
        "Mentoring Session - Job Preparation Program - Pacmann AI"
      ],
      "metadata": {
        "id": "oiHKP1fFcQg8"
      }
    },
    {
      "cell_type": "markdown",
      "source": [
        "# Task 1. Calculate Average Sessions"
      ],
      "metadata": {
        "id": "QjkBfBPYQuBp"
      }
    },
    {
      "cell_type": "markdown",
      "source": [
        "**Task Descriptions**\n",
        "\n",
        "- PacBook is a Social Media platform and they want to know what is their user Average Sessions and Session Duration for each data\n",
        "- Given a three input for `load_time` (in minutes) and `exit_time` (in minutes)\n",
        "\n",
        "- To calculate Session Duration, you can use this formula\n",
        "\n",
        "$$\n",
        "\\text{Session}_\\text{duration} = \\text{exit}_\\text{time} - \\text{load}_\\text{time}\n",
        "$$\n",
        "\n",
        "- To calculate Average Sessions, you can use this formula\n",
        "\n",
        "$$\n",
        "\\text{Average}_\\text{sessions} = \\frac{\\sum_{n=1}^{3}{\\text{Session_duration}_{n}}}{\\text{N_SESSIONS}}\n",
        "$$\n",
        "\n",
        "- But there are some constraints in this task\n",
        "  - If the input for `load_time` and `exit_time` is less than zero or negative values, it will print the result **`\"Not a Valid Input\"`**"
      ],
      "metadata": {
        "id": "swuueRxlUZLd"
      }
    },
    {
      "cell_type": "markdown",
      "source": [
        "**Input - 1**\n",
        "\n",
        "```py\n",
        "load_time_1 = 5\n",
        "exit_time_1 = 10\n",
        "\n",
        "load_time_2 = 2\n",
        "exit_time_2 = 15.5\n",
        "\n",
        "load_time_3 = 1\n",
        "exit_time_3 = 22.3\n",
        "```"
      ],
      "metadata": {
        "id": "Ik-_m7EQ3fXf"
      }
    },
    {
      "cell_type": "code",
      "source": [
        "load_time_1 = 5\n",
        "exit_time_1 = 10\n",
        "\n",
        "load_time_2 = 2\n",
        "exit_time_2 = 15.5\n",
        "\n",
        "load_time_3 = 1\n",
        "exit_time_3 = 22.3\n",
        "\n",
        "\n",
        "session_1_duration = exit_time_1 - load_time_1\n",
        "session_2_duration = exit_time_2 - load_time_2\n",
        "session_3_duration = exit_time_3 - load_time_3\n",
        "total_duration = session_1_duration + session_2_duration + session_3_duration\n",
        "avg_session = total_duration/3\n",
        "avg_session = round(avg_session, 2)\n",
        "print(f\"Average Session Durration (in minutes), {avg_session}\")\n"
      ],
      "metadata": {
        "id": "oV6HE9olxOzd",
        "outputId": "6df5756a-30b9-426b-b2c8-77cb9849c513",
        "colab": {
          "base_uri": "https://localhost:8080/"
        }
      },
      "execution_count": null,
      "outputs": [
        {
          "output_type": "stream",
          "name": "stdout",
          "text": [
            "Average Session Durration (in minutes), 13.27\n"
          ]
        }
      ]
    },
    {
      "cell_type": "markdown",
      "source": [
        "**Output - 1**\n",
        "\n",
        "```py\n",
        "Session 1 Duration (in minutes): 5\n",
        "Session 2 Duration (in minutes): 13.5\n",
        "Session 3 Duration (in minutes): 21.3\n",
        "Average Session Duration (in minutes): 13.27\n",
        "```"
      ],
      "metadata": {
        "id": "mHkWLiAE3iMw"
      }
    },
    {
      "cell_type": "markdown",
      "source": [
        "**Input - 2**\n",
        "\n",
        "```py\n",
        "load_time_1 = 0\n",
        "exit_time_1 = 0\n",
        "\n",
        "load_time_2 = 0\n",
        "exit_time_2 = 0\n",
        "\n",
        "load_time_3 = 0\n",
        "exit_time_3 = 0\n",
        "```"
      ],
      "metadata": {
        "id": "5gIubmCR2vfI"
      }
    },
    {
      "cell_type": "code",
      "source": [
        "\n",
        "load_time_1 = 0\n",
        "exit_time_1 = 0\n",
        "\n",
        "load_time_2 = 0\n",
        "exit_time_2 = 0\n",
        "\n",
        "load_time_3 = 0\n",
        "exit_time_3 = 0\n",
        "\n",
        "session_1_duration = exit_time_1 - load_time_1\n",
        "session_2_duration = exit_time_2 - load_time_2\n",
        "session_3_duration = exit_time_3 - load_time_3\n",
        "total_duration = session_1_duration + session_2_duration + session_3_duration\n",
        "avg_session = total_duration/3\n",
        "avg_session = round(avg_session, 2)\n",
        "print(f\"Average Session Durration (in minutes), {avg_session}\")"
      ],
      "metadata": {
        "colab": {
          "base_uri": "https://localhost:8080/"
        },
        "id": "gyDP7WzO0S6u",
        "outputId": "62449312-2e57-4b84-8a19-cf6017f0bf59"
      },
      "execution_count": null,
      "outputs": [
        {
          "output_type": "stream",
          "name": "stdout",
          "text": [
            "Average Session Durration (in minutes), 0.0\n"
          ]
        }
      ]
    },
    {
      "cell_type": "markdown",
      "source": [
        "**Output - 2**\n",
        "\n",
        "```py\n",
        "Session 1 Duration (in minutes): 0\n",
        "Session 2 Duration (in minutes): 0\n",
        "Session 3 Duration (in minutes): 0\n",
        "Average Session Duration (in minutes): 0\n",
        "```"
      ],
      "metadata": {
        "id": "ZHXTFNaU232E"
      }
    },
    {
      "cell_type": "markdown",
      "source": [
        "**Input - 3**"
      ],
      "metadata": {
        "id": "O62tQZyJ3pSt"
      }
    },
    {
      "cell_type": "markdown",
      "source": [
        "```py\n",
        "load_time_1 = 3\n",
        "exit_time_1 = 7\n",
        "\n",
        "load_time_2 = -2\n",
        "exit_time_2 = 5\n",
        "\n",
        "load_time_3 = 3\n",
        "exit_time_3 = 156\n",
        "```"
      ],
      "metadata": {
        "id": "ljEAZIWj5sE8"
      }
    },
    {
      "cell_type": "markdown",
      "source": [
        "**Output - 3**\n",
        "\n",
        "```py\n",
        "Not a Valid Input\n",
        "```"
      ],
      "metadata": {
        "id": "6ivQBiJZ6DBC"
      }
    },
    {
      "cell_type": "code",
      "source": [
        "load_time_1 = 3\n",
        "exit_time_1 = 7\n",
        "\n",
        "load_time_2 = -2\n",
        "exit_time_2 = 5\n",
        "\n",
        "load_time_3 = 3\n",
        "exit_time_3 = 156\n",
        "\n",
        "if (load_time_1 < 0, exit_time_1 < 0 or\n",
        "    load_time_2 < 0, exit_time_2 < 0 or\n",
        "    load_time_3 < 0, exit_time_3 < 0):\n",
        "    print(\"Not a valid input\")\n",
        "\n",
        "else:\n",
        "  session_1_duration = exit_time_1 - load_time_1\n",
        "  session_2_duration = exit_time_2 - load_time_2\n",
        "  session_3_duration = exit_time_3 - load_time_3\n",
        "  total_duration = session_1_duration + session_2_duration + session_3_duration\n",
        "  avg_session = total_duration/3\n",
        "  avg_session = round(avg_session, 2)\n",
        "  print(f\"Average Session Durration (in minutes), {avg_session}\")"
      ],
      "metadata": {
        "colab": {
          "base_uri": "https://localhost:8080/"
        },
        "id": "xBjFB0GDQr-Z",
        "outputId": "98157840-5feb-40b3-9e1d-7e4cb9b55cf1"
      },
      "execution_count": null,
      "outputs": [
        {
          "output_type": "stream",
          "name": "stdout",
          "text": [
            "Not a valid input\n"
          ]
        }
      ]
    },
    {
      "cell_type": "markdown",
      "source": [
        "# Task 2. Temperature Converter Calculator\n",
        "\n",
        "Category: Medium\n",
        "\n",
        "---"
      ],
      "metadata": {
        "id": "HBpPiNIxd7os"
      }
    },
    {
      "cell_type": "markdown",
      "source": [
        "**Task Descriptions**\n",
        "- There are several unit of temperatures use by people around the world.\n",
        "  - For general people: Celcius or Fahrenheit\n",
        "  - For academic purposes: Kelvin\n",
        "- Your task is to create a temperature converter calculator.\n",
        "  - Celcius to Kelvin, vice versa\n",
        "  - Fahrenheit to Kelvin, vice versa\n",
        "  - Celcius to Fahrenheit, vice versa\n",
        "- **Addition**: Find how to convert the temperature by yourself."
      ],
      "metadata": {
        "id": "2t4h6o_Kd7ou"
      }
    },
    {
      "cell_type": "markdown",
      "source": [
        "**Input**\n",
        "\n",
        "```python\n",
        "temp = 20\n",
        "from_unit = 'Celcius'\n",
        "to_unit = 'Fahrenheit'\n",
        "```"
      ],
      "metadata": {
        "id": "SXFeDQkLd7ow"
      }
    },
    {
      "cell_type": "markdown",
      "source": [
        "**Output**\n",
        "```\n",
        "20 Celcius is equal to 68 Fahrenheit\n",
        "```"
      ],
      "metadata": {
        "id": "sHSt4LBEd7ox"
      }
    },
    {
      "cell_type": "markdown",
      "source": [
        "**Questions 1**\n",
        "\n",
        "---\n",
        "Draw your code flowchart"
      ],
      "metadata": {
        "id": "VrI6kmyUfq6H"
      }
    },
    {
      "cell_type": "markdown",
      "source": [
        "*Insert picture of your flowchart*"
      ],
      "metadata": {
        "id": "jdZDV7Bufq6i"
      }
    },
    {
      "cell_type": "code",
      "source": [
        "   ┌────────────┐\n",
        "   │   START    │\n",
        "   └─────┬──────┘\n",
        "         │\n",
        "         ▼\n",
        " ┌───────────────┐\n",
        " │ Input temp,    │\n",
        " │ from_unit,      │\n",
        " │ to_unit         │\n",
        " └─────┬─────────┘\n",
        "       │\n",
        "       ▼\n",
        " ┌───────────────────────────────┐\n",
        " │ Convert from_unit to Kelvin   │\n",
        " │ If Celcius: K = temp+273.15    │\n",
        " │ If Fahrenheit: K=(temp-32)*5/9+273.15 │\n",
        " │ If Kelvin: K=temp             │\n",
        " │ Else: Print \"Not a Valid Input\"│\n",
        " └─────┬─────────────────────────┘\n",
        "       │\n",
        "       ▼\n",
        " ┌───────────────────────────────┐\n",
        " │ Convert Kelvin to to_unit     │\n",
        " │ If Celcius: result=K-273.15    │\n",
        " │ If Fahrenheit:(K-273.15)*9/5+32│\n",
        " │ If Kelvin: result=K          │\n",
        " │ Else: Print \"Not a Valid Input\"│\n",
        " └─────┬─────────────────────────┘\n",
        "       │\n",
        "       ▼\n",
        " ┌─────────────────────────────┐\n",
        " │ Print \"{temp} {from_unit} is│\n",
        " │ equal to {result} {to_unit}\"│\n",
        " └─────┬───────────────────────┘\n",
        "       │\n",
        "       ▼\n",
        "   ┌────────────┐\n",
        "   │    END     │\n",
        "   └────────────┘\n"
      ],
      "metadata": {
        "id": "IF1ykqWSxq6w"
      },
      "execution_count": null,
      "outputs": []
    },
    {
      "cell_type": "code",
      "source": [
        "#Langkah-Langkah Logika (Flowchart Description):\n",
        "\n",
        "#**Start**\n",
        "\n",
        "#Input: temp, from_unit, to_unit\n",
        "\n",
        "#**Konversi from_unit ke Kelvin**\n",
        "\n",
        "#Jika from_unit == Celcius → kelvin = temp + 273.15\n",
        "\n",
        "#Jika from_unit == Fahrenheit → kelvin = (temp - 32) * 5/9 + 273.15\n",
        "\n",
        "# Jika from_unit == Kelvin → kelvin = temp\n",
        "\n",
        "# Jika bukan ketiganya → Print \"Not a Valid Input\" → Stop\n",
        "\n",
        "# Konversi Kelvin ke to_unit\n",
        "\n",
        "# Jika to_unit == Celcius → result = kelvin - 273.15\n",
        "\n",
        "# Jika to_unit == Fahrenheit → result = (kelvin - 273.15) * 9/5 + 32\n",
        "\n",
        "# Jika to_unit == Kelvin → result = kelvin\n",
        "\n",
        "# Jika bukan ketiganya → Print \"Not a Valid Input\" → Stop\n",
        "\n",
        "# Output: Cetak \"{temp} {from_unit} is equal to {result} {to_unit}\"\n",
        "\n",
        "# End"
      ],
      "metadata": {
        "id": "NGMkBfq98Jct"
      },
      "execution_count": null,
      "outputs": []
    },
    {
      "cell_type": "markdown",
      "source": [
        "**Questions 2**\n",
        "\n",
        "---\n",
        "Create your code based on the flowchart"
      ],
      "metadata": {
        "id": "85ajEoeqfq6p"
      }
    },
    {
      "cell_type": "code",
      "execution_count": null,
      "metadata": {
        "id": "jRiezMKUfq6v",
        "colab": {
          "base_uri": "https://localhost:8080/"
        },
        "outputId": "8d688b29-5398-4b04-a5e2-f9a0b18daaa0"
      },
      "outputs": [
        {
          "output_type": "stream",
          "name": "stdout",
          "text": [
            "20 Celcius = 68.0 Fahrenheit\n"
          ]
        }
      ],
      "source": [
        "temp = 20\n",
        "from_unit = 'Celcius'\n",
        "to_unit = 'Fahrenheit'\n",
        "\n",
        "# Normalize input (make sure case sensitivity won't cause errors)\n",
        "from_unit = from_unit.lower()\n",
        "to_unit = to_unit.lower()\n",
        "\n",
        "# Conversion logic\n",
        "def convert_temperature(value, from_u, to_u):\n",
        "    # Convert input temperature to Kelvin first\n",
        "    if from_u == 'celcius':\n",
        "        kelvin = value + 273.15\n",
        "    elif from_u == 'fahrenheit':\n",
        "        kelvin = (value - 32) * 5/9 + 273.15\n",
        "    elif from_u == 'kelvin':\n",
        "        kelvin = value\n",
        "    else:\n",
        "        return \"Not a Valid Input\"\n",
        "\n",
        "    # Convert Kelvin to desired unit\n",
        "    if to_u == 'celcius':\n",
        "        return round(kelvin - 273.15, 2)\n",
        "    elif to_u == 'fahrenheit':\n",
        "        return round((kelvin - 273.15) * 9/5 + 32, 2)\n",
        "    elif to_u == 'kelvin':\n",
        "        return round(kelvin, 2)\n",
        "    else:\n",
        "        return \"Not a Valid Input\"\n",
        "\n",
        "# Perform conversion\n",
        "result = convert_temperature(temp, from_unit, to_unit)\n",
        "\n",
        "# Print result\n",
        "if isinstance(result, str):\n",
        "    print(result)\n",
        "else:\n",
        "    print(f\"{temp} {from_unit.capitalize()} = {result} {to_unit.capitalize()}\")\n"
      ]
    },
    {
      "cell_type": "markdown",
      "source": [
        "# Task 3. Extract NIK (Nomor Induk Kependudukan) Data\n",
        "\n",
        "Category: Hard\n",
        "\n",
        "---"
      ],
      "metadata": {
        "id": "oMGlSKoCfuy-"
      }
    },
    {
      "cell_type": "markdown",
      "source": [
        "**Task Descriptions**\n",
        "- NIK is not some random numbers. You can extract information from the NIK.\n",
        "  - The first six digits are a province, regency, and district code\n",
        "  - The next six digits are the date of birth; DD-MM-YY, respectively\n",
        "    - For men, the date of birth ranged between 01-31\n",
        "    - For women, the date of birth is added with 40, hence ranged between 41-71.\n",
        "  - The last 4 digits are a serial number of NIK issuance.\n",
        "\n",
        "\n",
        "- Given **two** NIK, your tasks are\n",
        "  1. Extract the date of birth of each NIK\n",
        "  2. Extract their gender.\n",
        "  3. Extract whether they have similar gender.\n",
        "  4. Extract whether they have similar month of birth."
      ],
      "metadata": {
        "id": "zA6xNheyfuzA"
      }
    },
    {
      "cell_type": "markdown",
      "source": [
        "**Input**\n",
        "\n",
        "```python\n",
        "nik_1 = 1571011709860003\n",
        "nik_2 = 2404075109910009\n",
        "```"
      ],
      "metadata": {
        "id": "mAxaxYujfuzD"
      }
    },
    {
      "cell_type": "markdown",
      "source": [
        "**Output**\n",
        "```\n",
        "Date of Birth\n",
        "- NIK 1 : 17-09-86\n",
        "- NIK 2 : 11-09-91\n",
        "\n",
        "Gender\n",
        "- NIK 1 : Male\n",
        "- NIK 2 : Female\n",
        "\n",
        "Do they have similar gender?\n",
        "No\n",
        "\n",
        "Do they have similar month of birth?\n",
        "Yes, it is on September\n",
        "```"
      ],
      "metadata": {
        "id": "S89bi74tfuzE"
      }
    },
    {
      "cell_type": "markdown",
      "source": [
        "**Questions 1**\n",
        "\n",
        "---\n",
        "Draw your code flowchart"
      ],
      "metadata": {
        "id": "VXVzZLeAfuzG"
      }
    },
    {
      "cell_type": "code",
      "source": [
        "flowchart TD\n",
        "    A[Mulai] --> B[Input nik_1, nik_2]\n",
        "    B --> C[Panggil parse_nik(nik_1) → a]\n",
        "    C --> D[Panggil parse_nik(nik_2) → b]\n",
        "    D --> E[Cetak Tanggal Lahir a & b]\n",
        "    E --> F[Cetak Jenis Kelamin a & b]\n",
        "    F --> G{a.gender == b.gender?}\n",
        "    G -- Ya --> H[Cetak \"Ya\"]\n",
        "    G -- Tidak --> I[Cetak \"Tidak\"]\n",
        "    H --> J{a.month == b.month?}\n",
        "    I --> J\n",
        "    J -- Ya --> K[Cetak \"Ya, bulan <Nama Bulan>\"]\n",
        "    J -- Tidak --> L[Cetak \"Tidak\"]\n",
        "    K --> M[Akhir]\n",
        "    L --> M[Akhir]\n"
      ],
      "metadata": {
        "id": "e3G2Drh8r9C4"
      },
      "execution_count": null,
      "outputs": []
    },
    {
      "cell_type": "markdown",
      "source": [
        "**Questions 2**\n",
        "\n",
        "---\n",
        "Create your code based on the flowchart"
      ],
      "metadata": {
        "id": "Qu7qITjNfuzN"
      }
    },
    {
      "cell_type": "code",
      "source": [
        "def parse_nik(nik: int | str):\n",
        "    s = str(nik).zfill(16)\n",
        "    dob = s[6:12]\n",
        "    dd = int(dob[:2])\n",
        "    mm = int(dob[2:4])\n",
        "    yy = int(dob[4:6])\n",
        "\n",
        "    if 41 <= dd <= 71:\n",
        "        gender = \"Female\"\n",
        "        dd -= 40\n",
        "    else:\n",
        "        gender = \"Male\"\n",
        "\n",
        "    return {\n",
        "        \"dob_str\": f\"{dd:02d}-{mm:02d}-{yy:02d}\",\n",
        "        \"gender\": gender,\n",
        "        \"month\": mm,\n",
        "    }"
      ],
      "metadata": {
        "id": "ehvy1ds-hCWO"
      },
      "execution_count": null,
      "outputs": []
    },
    {
      "cell_type": "code",
      "source": [
        "nik_1 = 1571011709860003\n",
        "nik_2 = 2404075109910009\n",
        "\n",
        "a = parse_nik(nik_1)\n",
        "b = parse_nik(nik_2)\n",
        "\n",
        "print(\"Date of Birth\")\n",
        "print(f\"- NIK 1 : {a['dob_str']}\")\n",
        "print(f\"- NIK 2 : {b['dob_str']}\")\n",
        "\n",
        "print(\"\\nGender\")\n",
        "print(f\"- NIK 1 : {a['gender']}\")\n",
        "print(f\"- NIK 2 : {b['gender']}\")\n",
        "\n",
        "same_gender = \"Yes\" if a[\"gender\"] == b[\"gender\"] else \"No\"\n",
        "print(\"\\nDo they have similar gender?\")\n",
        "print(same_gender)\n",
        "\n",
        "same_month = a[\"month\"] == b[\"month\"]\n",
        "print(\"\\nDo they have similar month of birth?\")\n",
        "if same_month:\n",
        "    month_names = [\"January\",\"February\",\"March\",\"April\",\"May\",\"June\",\n",
        "                   \"July\",\"August\",\"September\",\"October\",\"November\",\"December\"]\n",
        "    print(f\"Yes, it is on {month_names[a['month']-1]}\")\n",
        "else:\n",
        "    print(\"No\")"
      ],
      "metadata": {
        "colab": {
          "base_uri": "https://localhost:8080/"
        },
        "id": "EOrzXu46hMhT",
        "outputId": "fab3f125-6984-4251-8a07-6e2347582196"
      },
      "execution_count": null,
      "outputs": [
        {
          "output_type": "stream",
          "name": "stdout",
          "text": [
            "Date of Birth\n",
            "- NIK 1 : 17-09-86\n",
            "- NIK 2 : 11-09-91\n",
            "\n",
            "Gender\n",
            "- NIK 1 : Male\n",
            "- NIK 2 : Female\n",
            "\n",
            "Do they have similar gender?\n",
            "No\n",
            "\n",
            "Do they have similar month of birth?\n",
            "Yes, it is on September\n"
          ]
        }
      ]
    },
    {
      "cell_type": "markdown",
      "source": [],
      "metadata": {
        "id": "SKFeGqu4exUY"
      }
    },
    {
      "cell_type": "markdown",
      "source": [
        "*Insert picture of your flowchart*"
      ],
      "metadata": {
        "id": "PlnLVk45fuzL"
      }
    },
    {
      "cell_type": "markdown",
      "source": [
        "# Task 4. Calculate Pajak Penghasilan (Simplified)\n",
        "\n",
        "Category: Hard\n",
        "\n",
        "---"
      ],
      "metadata": {
        "id": "Bwed_S8cjsIO"
      }
    },
    {
      "cell_type": "markdown",
      "source": [
        "**Task Descriptions**\n",
        "- According to Pemotongan Pajak Penghasilan PPh Pasal 21 Tahun 2016, we can calculate our income tax as (we'll write in Bahasa Indonesia for avoiding missinterpretation)\n",
        "\n",
        "- **Penghasilan tidak kena pajak (PTKP)**\n",
        "  - Penghasilan Rp 54.000.000 setahun untuk wajib pajak.\n",
        "  - Tambahan Rp 4.500.000 diberikan jika wajib pajak menikah.\n",
        "  - Tambahan Rp 4.500.000 lagi jika punya 1 orang anak atau Rp 9.000.000 jika punya 2 orang anak. Apabila jumlah tanggungan lebih dari itu, maka tetap dihitung 3 orang tanggungan.\n",
        "\n",
        "- **Tarif Pajak Penghasilan**\n",
        "  - 5% untuk penghasilan kena pajak (PKP) sampai dengan 60 Juta\n",
        "  - 15% untuk PKP di atas 60 juta sampai dengan 250 Juta\n",
        "  - 25% untuk PKP di atas 250 juta sampai dengan 500 juta\n",
        "  - 30% untuk PKP di atas 500 juta sampai dengan 5 miliar\n",
        "  - 35% untuk PKP di atas 5 miliar\n",
        "\n",
        "- Your task is calculate the income tax given\n",
        "  - Monthly income\n",
        "  - Marital status\n",
        "  - The number of dependents (jumlah tanggungan)"
      ],
      "metadata": {
        "id": "zoDj-s5RjsIR"
      }
    },
    {
      "cell_type": "markdown",
      "source": [
        "**Input - 1**\n",
        "\n",
        "```python\n",
        "monthly_income = 4750000\n",
        "marital_status = 'single'\n",
        "n_dependents = 0\n",
        "```"
      ],
      "metadata": {
        "id": "6Z-n6OrpjsIT"
      }
    },
    {
      "cell_type": "markdown",
      "source": [
        "**Output - 1**\n",
        "```\n",
        "Penghasilan neto setahun:\n",
        "57000000\n",
        "\n",
        "PTKP TK/0:\n",
        "-54000000\n",
        "\n",
        "Penghasilan Kena Pajak:\n",
        "3000000\n",
        "\n",
        "PPh 21 terutang setahun:\n",
        "150000\n",
        "```"
      ],
      "metadata": {
        "id": "4J86ID58jsIU"
      }
    },
    {
      "cell_type": "markdown",
      "source": [
        "# **Input - 2**\n",
        "\n",
        "```python\n",
        "monthly_income = 15000000\n",
        "marital_status = 'married'\n",
        "n_dependents = 3\n",
        "```"
      ],
      "metadata": {
        "id": "I3vgqcHSpcRx"
      }
    },
    {
      "cell_type": "markdown",
      "source": [
        "**Output - 2**\n",
        "```\n",
        "Penghasilan neto setahun:\n",
        "180000000\n",
        "\n",
        "PTKP K/3:\n",
        "-72000000\n",
        "\n",
        "Penghasilan Kena Pajak:\n",
        "108000000\n",
        "\n",
        "PPh 21 terutang setahun:\n",
        "16200000\n",
        "```"
      ],
      "metadata": {
        "id": "Wuy3LHIGpcSr"
      }
    },
    {
      "cell_type": "markdown",
      "source": [
        "**Questions 1**\n",
        "\n",
        "---\n",
        "Draw your code flowchart"
      ],
      "metadata": {
        "id": "iUT8TvxFjsIW"
      }
    },
    {
      "cell_type": "markdown",
      "source": [
        "**Mulai (Start):** Proses dimulai.\n",
        "**Input:** Masukkan data yang diperlukan: penghasilan bulanan, status pernikahan, dan jumlah tanggungan.\n",
        "\n",
        "**Hitung Penghasilan Neto Tahunan:** Lakukan perhitungan Penghasilan Bulanan * 12.\n",
        "\n",
        "**Hitung PTKP:**\n",
        "\n",
        "Tentukan nilai dasar PTKP (Rp 54.000.000).\n",
        "\n",
        "Cek apakah status pernikahan \"married\". Jika ya, tambahkan Rp 4.500.000 ke PTKP.\n",
        "\n",
        "Cek jumlah tanggungan (dibatasi maksimal 3). Tambahkan Rp 4.500.000 untuk setiap tanggungan.\n",
        "\n",
        "**Hitung PKP (Penghasilan Kena Pajak):** Kurangi penghasilan neto tahunan dengan PTKP. Jika hasilnya negatif, PKP adalah Rp 0.\n",
        "\n",
        "**Hitung PPh 21 Terutang:** Gunakan serangkaian keputusan untuk menentukan tarif pajak berdasarkan nilai PKP.\n",
        "\n",
        "Jika PKP <= Rp 60.000.000, hitung pajak 5%.\n",
        "\n",
        "Jika PKP antara Rp 60.000.001 - Rp 250.000.000, hitung pajak berjenjang (5% untuk 60 juta pertama, sisanya 15%).\n",
        "\n",
        "Lanjutkan dengan logika yang sama untuk semua tarif pajak lainnya hingga 35%.\n",
        "\n",
        "**Tampilkan Output:** Cetak semua hasil perhitungan yang relevan, seperti penghasilan neto, PTKP, PKP, dan PPh 21.\n",
        "\n",
        "**Selesai (End):** Proses berakhir.\n"
      ],
      "metadata": {
        "id": "3Poa8RODvTZW"
      }
    },
    {
      "cell_type": "markdown",
      "source": [
        "*Insert picture of your flowchart*"
      ],
      "metadata": {
        "id": "EGFOt7TZjsIX"
      }
    },
    {
      "cell_type": "markdown",
      "source": [
        "flowchart TD\n",
        "\n",
        "    A([Mulai]) --> B[/Input Data:\\n- Penghasilan bulanan\\n- Status pernikahan\\n- Jumlah tanggungan/]\n",
        "    B --> C[Hitung Penghasilan Neto Tahunan\\n= penghasilan_bulanan × 12]\n",
        "    C --> D[Hitung PTKP\\n(berdasarkan status & tanggungan)]\n",
        "    D --> E[Hitung PKP\\n= max(0, Neto Tahunan − PTKP)]\n",
        "    E --> F{PKP > 0?}\n",
        "    F -- Tidak --> G[Set PPh 21 Terutang = 0]\n",
        "    F -- Ya --> H[Hitung PPh 21 Terutang\\n(dengan tarif berjenjang)]\n",
        "    H --> I[Tampilkan hasil\\n(Neto Tahunan, PTKP, PKP, PPh 21)]\n",
        "    G --> I\n",
        "    I --> J([Selesai])\n",
        "\n"
      ],
      "metadata": {
        "id": "-ks0VgvjAEwr"
      }
    },
    {
      "cell_type": "markdown",
      "source": [
        "**Questions 2**\n",
        "\n",
        "---\n",
        "Create your code based on the flowchart"
      ],
      "metadata": {
        "id": "DpEkIMiJjsIY"
      }
    },
    {
      "cell_type": "code",
      "execution_count": null,
      "metadata": {
        "id": "DQkvhd4TjsIa",
        "colab": {
          "base_uri": "https://localhost:8080/"
        },
        "outputId": "c9d106ec-72de-433e-ab86-272857dc7953"
      },
      "outputs": [
        {
          "output_type": "stream",
          "name": "stdout",
          "text": [
            "=== Output - 1 ===\n",
            "Penghasilan neto setahun:\n",
            "57000000\n",
            "\n",
            "PTKP:\n",
            "-54000000\n",
            "\n",
            "Penghasilan Kena Pajak:\n",
            "3000000\n",
            "\n",
            "PPh 21 terutang setahun:\n",
            "150000\n",
            "\n",
            "====================\n",
            "\n",
            "=== Output - 2 ===\n",
            "Penghasilan neto setahun:\n",
            "180000000\n",
            "\n",
            "PTKP:\n",
            "-72000000\n",
            "\n",
            "Penghasilan Kena Pajak:\n",
            "108000000\n",
            "\n",
            "PPh 21 terutang setahun:\n",
            "10200000\n"
          ]
        }
      ],
      "source": [
        "def hitung_pph21(penghasilan_bulanan, status_pernikahan, jumlah_tanggungan):\n",
        "    \"\"\"\n",
        "    Menghitung PPh 21 berdasarkan penghasilan bulanan, status pernikahan, dan jumlah tanggungan.\n",
        "    \"\"\"\n",
        "    # 1. Hitung Penghasilan Neto Setahun\n",
        "    penghasilan_neto_setahun = penghasilan_bulanan * 12\n",
        "\n",
        "    # 2. Hitung PTKP (Penghasilan Tidak Kena Pajak)\n",
        "    ptkp = 54000000  # PTKP dasar\n",
        "\n",
        "    # Tambahan PTKP untuk wajib pajak menikah\n",
        "    if status_pernikahan.lower() == 'menikah' or status_pernikahan.lower() == 'married':\n",
        "        ptkp += 4500000\n",
        "\n",
        "    # Tambahan PTKP untuk tanggungan (maksimal 3 orang)\n",
        "    tanggungan_dihitung = min(jumlah_tanggungan, 3)\n",
        "    ptkp += (tanggungan_dihitung * 4500000)\n",
        "\n",
        "    # 3. Hitung PKP (Penghasilan Kena Pajak)\n",
        "    penghasilan_kena_pajak = max(0, penghasilan_neto_setahun - ptkp)\n",
        "\n",
        "    # 4. Hitung PPh 21 Terutang dengan Tarif Progresif\n",
        "    pph_terutang = 0\n",
        "    pkp_sisa = penghasilan_kena_pajak\n",
        "\n",
        "    # Tarif 35% (> Rp 5 Miliar)\n",
        "    if pkp_sisa > 5000000000:\n",
        "        pph_terutang += (pkp_sisa - 5000000000) * 0.35\n",
        "        pkp_sisa = 5000000000\n",
        "\n",
        "    # Tarif 30% (> Rp 500 Juta - Rp 5 Miliar)\n",
        "    if pkp_sisa > 500000000:\n",
        "        pph_terutang += (pkp_sisa - 500000000) * 0.30\n",
        "        pkp_sisa = 500000000\n",
        "\n",
        "    # Tarif 25% (> Rp 250 Juta - Rp 500 Juta)\n",
        "    if pkp_sisa > 250000000:\n",
        "        pph_terutang += (pkp_sisa - 250000000) * 0.25\n",
        "        pkp_sisa = 250000000\n",
        "\n",
        "    # Tarif 15% (> Rp 60 Juta - Rp 250 Juta)\n",
        "    if pkp_sisa > 60000000:\n",
        "        pph_terutang += (pkp_sisa - 60000000) * 0.15\n",
        "        pkp_sisa = 60000000\n",
        "\n",
        "    # Tarif 5% (s/d Rp 60 Juta)\n",
        "    if pkp_sisa > 0:\n",
        "        pph_terutang += pkp_sisa * 0.05\n",
        "\n",
        "    # Mengembalikan hasil sebagai dictionary untuk kemudahan\n",
        "    return {\n",
        "        \"penghasilan_neto_setahun\": int(penghasilan_neto_setahun),\n",
        "        \"ptkp\": int(ptkp),\n",
        "        \"penghasilan_kena_pajak\": int(penghasilan_kena_pajak),\n",
        "        \"pph_terutang_setahun\": int(pph_terutang)\n",
        "    }\n",
        "\n",
        "# --- Contoh Penggunaan ---\n",
        "\n",
        "# Contoh 1: Sesuai dengan Output-1\n",
        "print(\"=== Output - 1 ===\")\n",
        "hasil1 = hitung_pph21(4750000, 'single', 0)\n",
        "print(f\"Penghasilan neto setahun:\\n{hasil1['penghasilan_neto_setahun']}\")\n",
        "print(f\"\\nPTKP:\\n-{hasil1['ptkp']}\")\n",
        "print(f\"\\nPenghasilan Kena Pajak:\\n{hasil1['penghasilan_kena_pajak']}\")\n",
        "print(f\"\\nPPh 21 terutang setahun:\\n{hasil1['pph_terutang_setahun']}\")\n",
        "\n",
        "print(\"\\n\" + \"=\"*20 + \"\\n\")\n",
        "\n",
        "# Contoh 2: Sesuai dengan Output-2\n",
        "print(\"=== Output - 2 ===\")\n",
        "hasil2 = hitung_pph21(15000000, 'married', 3)\n",
        "print(f\"Penghasilan neto setahun:\\n{hasil2['penghasilan_neto_setahun']}\")\n",
        "print(f\"\\nPTKP:\\n-{hasil2['ptkp']}\")\n",
        "print(f\"\\nPenghasilan Kena Pajak:\\n{hasil2['penghasilan_kena_pajak']}\")\n",
        "print(f\"\\nPPh 21 terutang setahun:\\n{hasil2['pph_terutang_setahun']}\")"
      ]
    }
  ]
}