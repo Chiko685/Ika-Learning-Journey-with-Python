{
 "cells": [
  {
   "cell_type": "markdown",
   "metadata": {},
   "source": [
    "# **Data Normalization Techniques**\n"
   ]
  },
  {
   "cell_type": "markdown",
   "metadata": {},
   "source": [
    "Estimated time needed: **30** minutes\n"
   ]
  },
  {
   "cell_type": "markdown",
   "metadata": {},
   "source": [
    "In this lab, you will focus on data normalization. This includes identifying compensation-related columns, applying normalization techniques, and visualizing the data distributions.\n"
   ]
  },
  {
   "cell_type": "markdown",
   "metadata": {},
   "source": [
    "## Objectives\n"
   ]
  },
  {
   "cell_type": "markdown",
   "metadata": {},
   "source": [
    "In this lab, you will perform the following:\n"
   ]
  },
  {
   "cell_type": "markdown",
   "metadata": {},
   "source": [
    "- Identify duplicate rows and remove them.\n",
    "\n",
    "- Check and handle missing values in key columns.\n",
    "\n",
    "- Identify and normalize compensation-related columns.\n",
    "\n",
    "- Visualize the effect of normalization techniques on data distributions.\n"
   ]
  },
  {
   "cell_type": "markdown",
   "metadata": {},
   "source": [
    "-----\n"
   ]
  },
  {
   "cell_type": "markdown",
   "metadata": {},
   "source": [
    "## Hands on Lab\n"
   ]
  },
  {
   "cell_type": "markdown",
   "metadata": {},
   "source": [
    "#### Step 1: Install and Import Libraries\n"
   ]
  },
  {
   "cell_type": "code",
   "execution_count": 1,
   "metadata": {},
   "outputs": [
    {
     "name": "stdout",
     "output_type": "stream",
     "text": [
      "Collecting pandas\n",
      "  Downloading pandas-2.3.3-cp312-cp312-manylinux_2_24_x86_64.manylinux_2_28_x86_64.whl.metadata (91 kB)\n",
      "Collecting numpy>=1.26.0 (from pandas)\n",
      "  Downloading numpy-2.3.3-cp312-cp312-manylinux_2_27_x86_64.manylinux_2_28_x86_64.whl.metadata (62 kB)\n",
      "Requirement already satisfied: python-dateutil>=2.8.2 in /opt/conda/lib/python3.12/site-packages (from pandas) (2.9.0.post0)\n",
      "Requirement already satisfied: pytz>=2020.1 in /opt/conda/lib/python3.12/site-packages (from pandas) (2024.2)\n",
      "Collecting tzdata>=2022.7 (from pandas)\n",
      "  Downloading tzdata-2025.2-py2.py3-none-any.whl.metadata (1.4 kB)\n",
      "Requirement already satisfied: six>=1.5 in /opt/conda/lib/python3.12/site-packages (from python-dateutil>=2.8.2->pandas) (1.17.0)\n",
      "Downloading pandas-2.3.3-cp312-cp312-manylinux_2_24_x86_64.manylinux_2_28_x86_64.whl (12.4 MB)\n",
      "\u001b[2K   \u001b[90m━━━━━━━━━━━━━━━━━━━━━━━━━━━━━━━━━━━━━━━━\u001b[0m \u001b[32m12.4/12.4 MB\u001b[0m \u001b[31m168.6 MB/s\u001b[0m eta \u001b[36m0:00:00\u001b[0m\n",
      "Downloading numpy-2.3.3-cp312-cp312-manylinux_2_27_x86_64.manylinux_2_28_x86_64.whl (16.6 MB)\n",
      "\u001b[2K   \u001b[90m━━━━━━━━━━━━━━━━━━━━━━━━━━━━━━━━━━━━━━━━\u001b[0m \u001b[32m16.6/16.6 MB\u001b[0m \u001b[31m187.7 MB/s\u001b[0m eta \u001b[36m0:00:00\u001b[0m\n",
      "\u001b[?25hDownloading tzdata-2025.2-py2.py3-none-any.whl (347 kB)\n",
      "Installing collected packages: tzdata, numpy, pandas\n",
      "Successfully installed numpy-2.3.3 pandas-2.3.3 tzdata-2025.2\n"
     ]
    }
   ],
   "source": [
    "!pip install pandas"
   ]
  },
  {
   "cell_type": "code",
   "execution_count": 2,
   "metadata": {},
   "outputs": [
    {
     "name": "stdout",
     "output_type": "stream",
     "text": [
      "Collecting matplotlib\n",
      "  Downloading matplotlib-3.10.6-cp312-cp312-manylinux2014_x86_64.manylinux_2_17_x86_64.whl.metadata (11 kB)\n",
      "Collecting contourpy>=1.0.1 (from matplotlib)\n",
      "  Downloading contourpy-1.3.3-cp312-cp312-manylinux_2_27_x86_64.manylinux_2_28_x86_64.whl.metadata (5.5 kB)\n",
      "Collecting cycler>=0.10 (from matplotlib)\n",
      "  Downloading cycler-0.12.1-py3-none-any.whl.metadata (3.8 kB)\n",
      "Collecting fonttools>=4.22.0 (from matplotlib)\n",
      "  Downloading fonttools-4.60.1-cp312-cp312-manylinux1_x86_64.manylinux2014_x86_64.manylinux_2_17_x86_64.manylinux_2_5_x86_64.whl.metadata (112 kB)\n",
      "Collecting kiwisolver>=1.3.1 (from matplotlib)\n",
      "  Downloading kiwisolver-1.4.9-cp312-cp312-manylinux2014_x86_64.manylinux_2_17_x86_64.whl.metadata (6.3 kB)\n",
      "Requirement already satisfied: numpy>=1.23 in /opt/conda/lib/python3.12/site-packages (from matplotlib) (2.3.3)\n",
      "Requirement already satisfied: packaging>=20.0 in /opt/conda/lib/python3.12/site-packages (from matplotlib) (24.2)\n",
      "Collecting pillow>=8 (from matplotlib)\n",
      "  Downloading pillow-11.3.0-cp312-cp312-manylinux_2_27_x86_64.manylinux_2_28_x86_64.whl.metadata (9.0 kB)\n",
      "Collecting pyparsing>=2.3.1 (from matplotlib)\n",
      "  Downloading pyparsing-3.2.5-py3-none-any.whl.metadata (5.0 kB)\n",
      "Requirement already satisfied: python-dateutil>=2.7 in /opt/conda/lib/python3.12/site-packages (from matplotlib) (2.9.0.post0)\n",
      "Requirement already satisfied: six>=1.5 in /opt/conda/lib/python3.12/site-packages (from python-dateutil>=2.7->matplotlib) (1.17.0)\n",
      "Downloading matplotlib-3.10.6-cp312-cp312-manylinux2014_x86_64.manylinux_2_17_x86_64.whl (8.7 MB)\n",
      "\u001b[2K   \u001b[90m━━━━━━━━━━━━━━━━━━━━━━━━━━━━━━━━━━━━━━━━\u001b[0m \u001b[32m8.7/8.7 MB\u001b[0m \u001b[31m133.4 MB/s\u001b[0m eta \u001b[36m0:00:00\u001b[0m\n",
      "\u001b[?25hDownloading contourpy-1.3.3-cp312-cp312-manylinux_2_27_x86_64.manylinux_2_28_x86_64.whl (362 kB)\n",
      "Downloading cycler-0.12.1-py3-none-any.whl (8.3 kB)\n",
      "Downloading fonttools-4.60.1-cp312-cp312-manylinux1_x86_64.manylinux2014_x86_64.manylinux_2_17_x86_64.manylinux_2_5_x86_64.whl (4.9 MB)\n",
      "\u001b[2K   \u001b[90m━━━━━━━━━━━━━━━━━━━━━━━━━━━━━━━━━━━━━━━━\u001b[0m \u001b[32m4.9/4.9 MB\u001b[0m \u001b[31m126.2 MB/s\u001b[0m eta \u001b[36m0:00:00\u001b[0m\n",
      "\u001b[?25hDownloading kiwisolver-1.4.9-cp312-cp312-manylinux2014_x86_64.manylinux_2_17_x86_64.whl (1.5 MB)\n",
      "\u001b[2K   \u001b[90m━━━━━━━━━━━━━━━━━━━━━━━━━━━━━━━━━━━━━━━━\u001b[0m \u001b[32m1.5/1.5 MB\u001b[0m \u001b[31m79.6 MB/s\u001b[0m eta \u001b[36m0:00:00\u001b[0m\n",
      "\u001b[?25hDownloading pillow-11.3.0-cp312-cp312-manylinux_2_27_x86_64.manylinux_2_28_x86_64.whl (6.6 MB)\n",
      "\u001b[2K   \u001b[90m━━━━━━━━━━━━━━━━━━━━━━━━━━━━━━━━━━━━━━━━\u001b[0m \u001b[32m6.6/6.6 MB\u001b[0m \u001b[31m145.3 MB/s\u001b[0m eta \u001b[36m0:00:00\u001b[0m\n",
      "\u001b[?25hDownloading pyparsing-3.2.5-py3-none-any.whl (113 kB)\n",
      "Installing collected packages: pyparsing, pillow, kiwisolver, fonttools, cycler, contourpy, matplotlib\n",
      "Successfully installed contourpy-1.3.3 cycler-0.12.1 fonttools-4.60.1 kiwisolver-1.4.9 matplotlib-3.10.6 pillow-11.3.0 pyparsing-3.2.5\n"
     ]
    }
   ],
   "source": [
    "!pip install matplotlib"
   ]
  },
  {
   "cell_type": "code",
   "execution_count": 3,
   "metadata": {},
   "outputs": [],
   "source": [
    "import pandas as pd\n",
    "import matplotlib.pyplot as plt"
   ]
  },
  {
   "cell_type": "markdown",
   "metadata": {},
   "source": [
    "### Step 2: Load the Dataset into a DataFrame\n"
   ]
  },
  {
   "cell_type": "markdown",
   "metadata": {},
   "source": [
    "We use the <code>pandas.read_csv()</code> function for reading CSV files. However, in this version of the lab, which operates on JupyterLite, the dataset needs to be downloaded to the interface using the provided code below.\n"
   ]
  },
  {
   "cell_type": "markdown",
   "metadata": {},
   "source": [
    "The functions below will download the dataset into your browser:\n"
   ]
  },
  {
   "cell_type": "code",
   "execution_count": 4,
   "metadata": {},
   "outputs": [
    {
     "name": "stdout",
     "output_type": "stream",
     "text": [
      "   ResponseId                      MainBranch                 Age  \\\n",
      "0           1  I am a developer by profession  Under 18 years old   \n",
      "1           2  I am a developer by profession     35-44 years old   \n",
      "2           3  I am a developer by profession     45-54 years old   \n",
      "3           4           I am learning to code     18-24 years old   \n",
      "4           5  I am a developer by profession     18-24 years old   \n",
      "\n",
      "            Employment RemoteWork   Check  \\\n",
      "0  Employed, full-time     Remote  Apples   \n",
      "1  Employed, full-time     Remote  Apples   \n",
      "2  Employed, full-time     Remote  Apples   \n",
      "3   Student, full-time        NaN  Apples   \n",
      "4   Student, full-time        NaN  Apples   \n",
      "\n",
      "                                    CodingActivities  \\\n",
      "0                                              Hobby   \n",
      "1  Hobby;Contribute to open-source projects;Other...   \n",
      "2  Hobby;Contribute to open-source projects;Other...   \n",
      "3                                                NaN   \n",
      "4                                                NaN   \n",
      "\n",
      "                                             EdLevel  \\\n",
      "0                          Primary/elementary school   \n",
      "1       Bachelor’s degree (B.A., B.S., B.Eng., etc.)   \n",
      "2    Master’s degree (M.A., M.S., M.Eng., MBA, etc.)   \n",
      "3  Some college/university study without earning ...   \n",
      "4  Secondary school (e.g. American high school, G...   \n",
      "\n",
      "                                           LearnCode  \\\n",
      "0                             Books / Physical media   \n",
      "1  Books / Physical media;Colleague;On the job tr...   \n",
      "2  Books / Physical media;Colleague;On the job tr...   \n",
      "3  Other online resources (e.g., videos, blogs, f...   \n",
      "4  Other online resources (e.g., videos, blogs, f...   \n",
      "\n",
      "                                     LearnCodeOnline  ... JobSatPoints_6  \\\n",
      "0                                                NaN  ...            NaN   \n",
      "1  Technical documentation;Blogs;Books;Written Tu...  ...            0.0   \n",
      "2  Technical documentation;Blogs;Books;Written Tu...  ...            NaN   \n",
      "3  Stack Overflow;How-to videos;Interactive tutorial  ...            NaN   \n",
      "4  Technical documentation;Blogs;Written Tutorial...  ...            NaN   \n",
      "\n",
      "  JobSatPoints_7 JobSatPoints_8 JobSatPoints_9 JobSatPoints_10  \\\n",
      "0            NaN            NaN            NaN             NaN   \n",
      "1            0.0            0.0            0.0             0.0   \n",
      "2            NaN            NaN            NaN             NaN   \n",
      "3            NaN            NaN            NaN             NaN   \n",
      "4            NaN            NaN            NaN             NaN   \n",
      "\n",
      "  JobSatPoints_11           SurveyLength SurveyEase ConvertedCompYearly JobSat  \n",
      "0             NaN                    NaN        NaN                 NaN    NaN  \n",
      "1             0.0                    NaN        NaN                 NaN    NaN  \n",
      "2             NaN  Appropriate in length       Easy                 NaN    NaN  \n",
      "3             NaN               Too long       Easy                 NaN    NaN  \n",
      "4             NaN              Too short       Easy                 NaN    NaN  \n",
      "\n",
      "[5 rows x 114 columns]\n"
     ]
    }
   ],
   "source": [
    "file_path = \"https://cf-courses-data.s3.us.cloud-object-storage.appdomain.cloud/n01PQ9pSmiRX6520flujwQ/survey-data.csv\"\n",
    "\n",
    "df = pd.read_csv(file_path)\n",
    "\n",
    "# Display the first few rows to check if data is loaded correctly\n",
    "print(df.head())\n"
   ]
  },
  {
   "cell_type": "code",
   "execution_count": 5,
   "metadata": {},
   "outputs": [],
   "source": [
    "#df = pd.read_csv(\"https://cf-courses-data.s3.us.cloud-object-storage.appdomain.cloud/n01PQ9pSmiRX6520flujwQ/survey-data.csv\")"
   ]
  },
  {
   "cell_type": "markdown",
   "metadata": {},
   "source": [
    "### Section 1: Handling Duplicates\n",
    "##### Task 1: Identify and remove duplicate rows.\n"
   ]
  },
  {
   "cell_type": "code",
   "execution_count": 6,
   "metadata": {},
   "outputs": [
    {
     "name": "stdout",
     "output_type": "stream",
     "text": [
      "Number of duplicates row is: 0\n"
     ]
    }
   ],
   "source": [
    "## Write your code here\n",
    "duplicate_rows = df.duplicated().sum() \n",
    "print(f'Number of duplicates row is: {duplicate_rows}')"
   ]
  },
  {
   "cell_type": "markdown",
   "metadata": {},
   "source": [
    "### Section 2: Handling Missing Values\n",
    "##### Task 2: Identify missing values in `CodingActivities`.\n"
   ]
  },
  {
   "cell_type": "code",
   "execution_count": 7,
   "metadata": {},
   "outputs": [
    {
     "name": "stdout",
     "output_type": "stream",
     "text": [
      "Missing value in Coding Activities column is: 10971\n"
     ]
    }
   ],
   "source": [
    "## Write your code here\n",
    "missing_value = df['CodingActivities'].isnull().sum()\n",
    "print(f'Missing value in Coding Activities column is: {missing_value}')"
   ]
  },
  {
   "cell_type": "markdown",
   "metadata": {},
   "source": [
    "##### Task 3: Impute missing values in CodingActivities with forward-fill.\n"
   ]
  },
  {
   "cell_type": "code",
   "execution_count": 8,
   "metadata": {},
   "outputs": [],
   "source": [
    "df['CodingActivities'] = df['CodingActivities'].ffill()"
   ]
  },
  {
   "cell_type": "code",
   "execution_count": 9,
   "metadata": {},
   "outputs": [
    {
     "data": {
      "text/plain": [
       "0                                                Hobby\n",
       "1    Hobby;Contribute to open-source projects;Other...\n",
       "2    Hobby;Contribute to open-source projects;Other...\n",
       "3    Hobby;Contribute to open-source projects;Other...\n",
       "4    Hobby;Contribute to open-source projects;Other...\n",
       "5    Hobby;Contribute to open-source projects;Other...\n",
       "6                         I don’t code outside of work\n",
       "7                         I don’t code outside of work\n",
       "8                                                Hobby\n",
       "9                             Bootstrapping a business\n",
       "Name: CodingActivities, dtype: object"
      ]
     },
     "execution_count": 9,
     "metadata": {},
     "output_type": "execute_result"
    }
   ],
   "source": [
    "df['CodingActivities'].head(10)"
   ]
  },
  {
   "cell_type": "markdown",
   "metadata": {},
   "source": [
    "**Note**:  Before normalizing ConvertedCompYearly, ensure that any missing values (NaN) in this column are handled appropriately. You can choose to either drop the rows containing NaN or replace the missing values with a suitable statistic (e.g., median or mean).\n"
   ]
  },
  {
   "cell_type": "markdown",
   "metadata": {},
   "source": [
    "### Section 3: Normalizing Compensation Data\n",
    "##### Task 4: Identify compensation-related columns, such as ConvertedCompYearly.\n",
    "Normalization is commonly applied to compensation data to bring values within a comparable range. Here, you’ll identify ConvertedCompYearly or similar columns, which contain compensation information. This column will be used in the subsequent tasks for normalization.\n"
   ]
  },
  {
   "cell_type": "code",
   "execution_count": 10,
   "metadata": {},
   "outputs": [
    {
     "data": {
      "text/plain": [
       "0   NaN\n",
       "1   NaN\n",
       "2   NaN\n",
       "3   NaN\n",
       "4   NaN\n",
       "5   NaN\n",
       "6   NaN\n",
       "7   NaN\n",
       "8   NaN\n",
       "9   NaN\n",
       "Name: ConvertedCompYearly, dtype: float64"
      ]
     },
     "execution_count": 10,
     "metadata": {},
     "output_type": "execute_result"
    }
   ],
   "source": [
    "## Write your code here\n",
    "df['ConvertedCompYearly'].head(10)"
   ]
  },
  {
   "cell_type": "code",
   "execution_count": 11,
   "metadata": {},
   "outputs": [
    {
     "name": "stdout",
     "output_type": "stream",
     "text": [
      "23435\n"
     ]
    }
   ],
   "source": [
    "df_nonan = df['ConvertedCompYearly'].notna().sum()     # hitung non-NaN\n",
    "print(df_nonan)"
   ]
  },
  {
   "cell_type": "code",
   "execution_count": 12,
   "metadata": {},
   "outputs": [
    {
     "name": "stdout",
     "output_type": "stream",
     "text": [
      "42002\n"
     ]
    }
   ],
   "source": [
    "df_nan = df['ConvertedCompYearly'].isna().sum()\n",
    "print(df_nan)  # hitung NaN"
   ]
  },
  {
   "cell_type": "code",
   "execution_count": 13,
   "metadata": {},
   "outputs": [],
   "source": [
    "#Because in the column ConvertedCompYearly we have many NAN, we can change it to meadian, mean or 0"
   ]
  },
  {
   "cell_type": "markdown",
   "metadata": {},
   "source": [
    "##### Task 5: Normalize ConvertedCompYearly using Min-Max Scaling.\n",
    "Min-Max Scaling brings all values in a column to a 0-1 range, making it useful for comparing data across different scales. Here, you will apply Min-Max normalization to the ConvertedCompYearly column, creating a new column ConvertedCompYearly_MinMax with normalized values.\n"
   ]
  },
  {
   "cell_type": "code",
   "execution_count": 14,
   "metadata": {},
   "outputs": [
    {
     "name": "stdout",
     "output_type": "stream",
     "text": [
      "   ConvertedCompYearly  ConvertedCompYearly_filled  ConvertedCompYearly_MinMax\n",
      "0                  NaN                     65000.0                    0.003998\n",
      "1                  NaN                     65000.0                    0.003998\n",
      "2                  NaN                     65000.0                    0.003998\n",
      "3                  NaN                     65000.0                    0.003998\n",
      "4                  NaN                     65000.0                    0.003998\n"
     ]
    }
   ],
   "source": [
    "# Change to median\n",
    "#.fillna(median_val) → mengganti semua NaN dengan nilai median.\n",
    "median_val = df['ConvertedCompYearly'].median()\n",
    "df['ConvertedCompYearly_filled'] = df['ConvertedCompYearly'].fillna(median_val)\n",
    "\n",
    "# Normalisasi manual\n",
    "min_val = df['ConvertedCompYearly_filled'].min()\n",
    "max_val = df['ConvertedCompYearly_filled'].max()\n",
    "\n",
    "df['ConvertedCompYearly_MinMax'] = (df['ConvertedCompYearly_filled'] - min_val) / (max_val - min_val)\n",
    "\n",
    "print(df[['ConvertedCompYearly', 'ConvertedCompYearly_filled', 'ConvertedCompYearly_MinMax']].head())\n"
   ]
  },
  {
   "cell_type": "code",
   "execution_count": 15,
   "metadata": {},
   "outputs": [
    {
     "data": {
      "text/plain": [
       "6113"
      ]
     },
     "execution_count": 15,
     "metadata": {},
     "output_type": "execute_result"
    }
   ],
   "source": [
    "df['ConvertedCompYearly_filled'].nunique()"
   ]
  },
  {
   "cell_type": "code",
   "execution_count": 16,
   "metadata": {},
   "outputs": [
    {
     "name": "stdout",
     "output_type": "stream",
     "text": [
      "     ResponseId                                         MainBranch  \\\n",
      "72           73                     I am a developer by profession   \n",
      "374         375  I am not primarily a developer, but I write co...   \n",
      "379         380                     I am a developer by profession   \n",
      "385         386                     I am a developer by profession   \n",
      "389         390                     I am a developer by profession   \n",
      "\n",
      "                 Age                                         Employment  \\\n",
      "72   18-24 years old  Employed, full-time;Student, full-time;Indepen...   \n",
      "374  25-34 years old                                Employed, full-time   \n",
      "379  35-44 years old                                Employed, full-time   \n",
      "385  35-44 years old  Independent contractor, freelancer, or self-em...   \n",
      "389  25-34 years old             Employed, full-time;Student, part-time   \n",
      "\n",
      "                               RemoteWork   Check  \\\n",
      "72   Hybrid (some remote, some in-person)  Apples   \n",
      "374  Hybrid (some remote, some in-person)  Apples   \n",
      "379                                Remote  Apples   \n",
      "385                                Remote  Apples   \n",
      "389                                Remote  Apples   \n",
      "\n",
      "                                      CodingActivities  \\\n",
      "72   Hobby;School or academic work;Professional dev...   \n",
      "374  Hobby;School or academic work;Professional dev...   \n",
      "379                     Hobby;Bootstrapping a business   \n",
      "385                                              Hobby   \n",
      "389                      Hobby;School or academic work   \n",
      "\n",
      "                                               EdLevel  \\\n",
      "72   Secondary school (e.g. American high school, G...   \n",
      "374     Professional degree (JD, MD, Ph.D, Ed.D, etc.)   \n",
      "379    Master’s degree (M.A., M.S., M.Eng., MBA, etc.)   \n",
      "385    Master’s degree (M.A., M.S., M.Eng., MBA, etc.)   \n",
      "389  Some college/university study without earning ...   \n",
      "\n",
      "                                             LearnCode  \\\n",
      "72   On the job training;Other online resources (e....   \n",
      "374  Books / Physical media;Colleague;On the job tr...   \n",
      "379  Books / Physical media;Other online resources ...   \n",
      "385  Books / Physical media;On the job training;Oth...   \n",
      "389  Books / Physical media;Colleague;On the job tr...   \n",
      "\n",
      "                                       LearnCodeOnline  ... JobSatPoints_8  \\\n",
      "72   Technical documentation;Blogs;Written Tutorial...  ...          100.0   \n",
      "374  Written Tutorials;Stack Overflow;Written-based...  ...            NaN   \n",
      "379  Technical documentation;Books;Social Media;Wri...  ...            0.0   \n",
      "385  Technical documentation;Blogs;Written Tutorial...  ...            NaN   \n",
      "389  Written Tutorials;Stack Overflow;Coding sessio...  ...            5.0   \n",
      "\n",
      "    JobSatPoints_9 JobSatPoints_10 JobSatPoints_11           SurveyLength  \\\n",
      "72           100.0            50.0            90.0               Too long   \n",
      "374            NaN             NaN             NaN  Appropriate in length   \n",
      "379            0.0             0.0             0.0               Too long   \n",
      "385            NaN             NaN             NaN              Too short   \n",
      "389           20.0            10.0             5.0               Too long   \n",
      "\n",
      "                     SurveyEase ConvertedCompYearly JobSat  \\\n",
      "72                         Easy              7322.0   10.0   \n",
      "374  Neither easy nor difficult             30074.0    NaN   \n",
      "379                   Difficult             91295.0   10.0   \n",
      "385                        Easy             53703.0    NaN   \n",
      "389                        Easy            110000.0   10.0   \n",
      "\n",
      "    ConvertedCompYearly_filled ConvertedCompYearly_MinMax  \n",
      "72                      7322.0                   0.000450  \n",
      "374                    30074.0                   0.001850  \n",
      "379                    91295.0                   0.005616  \n",
      "385                    53703.0                   0.003303  \n",
      "389                   110000.0                   0.006766  \n",
      "\n",
      "[5 rows x 116 columns]\n"
     ]
    }
   ],
   "source": [
    "#cek apakah nilai 65000.0 diaplikasikan ke semua nilai di kolom\n",
    "#kesimpulannya median hanya untuk pengganti Nan\n",
    "df_filtered = df[df['ConvertedCompYearly_filled'] != 65000.0]\n",
    "\n",
    "# Mencetak 5 baris pertama dari hasil filter\n",
    "print(df_filtered.head())"
   ]
  },
  {
   "cell_type": "code",
   "execution_count": 31,
   "metadata": {},
   "outputs": [
    {
     "data": {
      "text/plain": [
       "0        False\n",
       "1        False\n",
       "2        False\n",
       "3        False\n",
       "4        False\n",
       "         ...  \n",
       "65432    False\n",
       "65433    False\n",
       "65434    False\n",
       "65435    False\n",
       "65436    False\n",
       "Name: ConvertedCompYearly, Length: 65437, dtype: bool"
      ]
     },
     "execution_count": 31,
     "metadata": {},
     "output_type": "execute_result"
    }
   ],
   "source": [
    "#atau bisa dengan menggunakan notna() yang digunakan untuk mengecek menggunakan boolean \n",
    "#false value menandakan jika data kosong/NaN\n",
    "df['ConvertedCompYearly'].notna()\n"
   ]
  },
  {
   "cell_type": "code",
   "execution_count": 32,
   "metadata": {},
   "outputs": [
    {
     "data": {
      "text/plain": [
       "0        True\n",
       "1        True\n",
       "2        True\n",
       "3        True\n",
       "4        True\n",
       "         ... \n",
       "65432    True\n",
       "65433    True\n",
       "65434    True\n",
       "65435    True\n",
       "65436    True\n",
       "Name: ConvertedCompYearly_filled, Length: 65437, dtype: bool"
      ]
     },
     "execution_count": 32,
     "metadata": {},
     "output_type": "execute_result"
    }
   ],
   "source": [
    "df['ConvertedCompYearly_filled'].notna()\n"
   ]
  },
  {
   "cell_type": "code",
   "execution_count": 17,
   "metadata": {},
   "outputs": [
    {
     "name": "stdout",
     "output_type": "stream",
     "text": [
      "Semua nilai dalam range 0–1? True\n"
     ]
    }
   ],
   "source": [
    "is_within_range = df['ConvertedCompYearly_MinMax'].between(0, 1).all()\n",
    "print(\"Semua nilai dalam range 0–1?\", is_within_range)\n"
   ]
  },
  {
   "cell_type": "code",
   "execution_count": 18,
   "metadata": {},
   "outputs": [
    {
     "name": "stdout",
     "output_type": "stream",
     "text": [
      "Semua nilai valid dalam 0–1 range.\n"
     ]
    }
   ],
   "source": [
    "outliers = df[~df['ConvertedCompYearly_MinMax'].between(0, 1, inclusive='both')]\n",
    "if not outliers.empty:\n",
    "    print(\"Ada nilai di luar 0–1:\")\n",
    "    print(outliers[['ConvertedCompYearly', 'ConvertedCompYearly_MinMax']])\n",
    "else:\n",
    "    print(\"Semua nilai valid dalam 0–1 range.\")"
   ]
  },
  {
   "cell_type": "markdown",
   "metadata": {},
   "source": [
    "##### Task 6: Apply Z-score Normalization to `ConvertedCompYearly`.\n",
    "\n",
    "Z-score normalization standardizes values by converting them to a distribution with a mean of 0 and a standard deviation of 1. This method is helpful for datasets with a Gaussian (normal) distribution. Here, you’ll calculate Z-scores for the ConvertedCompYearly column, saving the results in a new column ConvertedCompYearly_Zscore.\n"
   ]
  },
  {
   "cell_type": "code",
   "execution_count": 21,
   "metadata": {},
   "outputs": [
    {
     "name": "stdout",
     "output_type": "stream",
     "text": [
      "72576.3582835399\n",
      "112220.68159721408\n"
     ]
    }
   ],
   "source": [
    "#memasukkan data yang sudah tidak ada NaN\n",
    "\n",
    "mean_val = df['ConvertedCompYearly_filled'].mean()\n",
    "\n",
    "print(mean_val)\n",
    "\n",
    "std_val = df['ConvertedCompYearly_filled'].std()\n",
    "\n",
    "print(std_val)"
   ]
  },
  {
   "cell_type": "code",
   "execution_count": 24,
   "metadata": {},
   "outputs": [],
   "source": [
    "df.loc[df['ConvertedCompYearly_filled'].notna(), 'ConvertedCompYearly_Zscore'] = \\\n",
    "    (df['ConvertedCompYearly_filled'] - mean_val) / std_val"
   ]
  },
  {
   "cell_type": "code",
   "execution_count": 28,
   "metadata": {},
   "outputs": [
    {
     "name": "stdout",
     "output_type": "stream",
     "text": [
      "   ConvertedCompYearly_filled  ConvertedCompYearly_Zscore\n",
      "0                     65000.0                   -0.067513\n",
      "1                     65000.0                   -0.067513\n",
      "2                     65000.0                   -0.067513\n",
      "3                     65000.0                   -0.067513\n",
      "4                     65000.0                   -0.067513\n",
      "5                     65000.0                   -0.067513\n",
      "6                     65000.0                   -0.067513\n",
      "7                     65000.0                   -0.067513\n",
      "8                     65000.0                   -0.067513\n",
      "9                     65000.0                   -0.067513\n"
     ]
    }
   ],
   "source": [
    "print(df[['ConvertedCompYearly_filled', 'ConvertedCompYearly_Zscore']].head(10))"
   ]
  },
  {
   "cell_type": "markdown",
   "metadata": {},
   "source": [
    "### Section 4: Visualization of Normalized Data\n",
    "##### Task 7: Visualize the distribution of `ConvertedCompYearly`, `ConvertedCompYearly_Normalized`, and `ConvertedCompYearly_Zscore`\n",
    "\n",
    "Visualization helps you understand how normalization changes the data distribution. In this task, create histograms for the original ConvertedCompYearly, as well as its normalized versions (ConvertedCompYearly_MinMax and ConvertedCompYearly_Zscore). This will help you compare how each normalization technique affects the data range and distribution.\n"
   ]
  },
  {
   "cell_type": "code",
   "execution_count": 33,
   "metadata": {},
   "outputs": [
    {
     "data": {
      "image/png": "[encoded data removed]",
      "text/plain": [
       "<Figure size 1800x500 with 3 Axes>"
      ]
     },
     "metadata": {},
     "output_type": "display_data"
    }
   ],
   "source": [
    "import matplotlib.pyplot as plt\n",
    "\n",
    "# Buat figure dengan 3 subplot sejajar\n",
    "fig, axes = plt.subplots(1, 3, figsize=(18, 5))\n",
    "\n",
    "# Histogram data asli\n",
    "axes[0].hist(df['ConvertedCompYearly'].dropna(), bins=30, edgecolor='black')\n",
    "axes[0].set_title(\"Distribusi Asli (ConvertedCompYearly)\")\n",
    "axes[0].set_xlabel(\"Gaji Tahunan\")\n",
    "axes[0].set_ylabel(\"Frekuensi\")\n",
    "\n",
    "# Histogram Min-Max\n",
    "axes[1].hist(df['ConvertedCompYearly_MinMax'].dropna(), bins=30, edgecolor='black', color='orange')\n",
    "axes[1].set_title(\"Min-Max Normalization\")\n",
    "axes[1].set_xlabel(\"Skala 0–1\")\n",
    "axes[1].set_ylabel(\"Frekuensi\")\n",
    "\n",
    "# Histogram Z-score\n",
    "axes[2].hist(df['ConvertedCompYearly_Zscore'].dropna(), bins=30, edgecolor='black', color='green')\n",
    "axes[2].set_title(\"Z-score Normalization\")\n",
    "axes[2].set_xlabel(\"Z-score\")\n",
    "axes[2].set_ylabel(\"Frekuensi\")\n",
    "\n",
    "plt.tight_layout()\n",
    "plt.show()\n"
   ]
  },
  {
   "cell_type": "markdown",
   "metadata": {},
   "source": [
    "### Summary\n"
   ]
  },
  {
   "cell_type": "markdown",
   "metadata": {},
   "source": [
    "In this lab, you practiced essential normalization techniques, including:\n",
    "\n",
    "- Identifying and handling duplicate rows.\n",
    "\n",
    "- Checking for and imputing missing values.\n",
    "\n",
    "- Applying Min-Max scaling and Z-score normalization to compensation data.\n",
    "\n",
    "- Visualizing the impact of normalization on data distribution.\n"
   ]
  }
 ],
 "metadata": {
  "kernelspec": {
   "display_name": "Python 3 (ipykernel)",
   "language": "python",
   "name": "python3"
  },
  "language_info": {
   "codemirror_mode": {
    "name": "ipython",
    "version": 3
   },
   "file_extension": ".py",
   "mimetype": "text/x-python",
   "name": "python",
   "nbconvert_exporter": "python",
   "pygments_lexer": "ipython3",
   "version": "3.12.8"
  },
  "prev_pub_hash": "5b2314eae200c68d20ee3204d822e6fad4f5845945b4895f383c3007af43740d"
 },
 "nbformat": 4,
 "nbformat_minor": 4
}
